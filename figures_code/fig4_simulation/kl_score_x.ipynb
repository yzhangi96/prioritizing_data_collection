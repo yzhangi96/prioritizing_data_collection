{
 "cells": [
  {
   "metadata": {
    "ExecuteTime": {
     "end_time": "2025-09-16T23:02:39.092412Z",
     "start_time": "2025-09-16T23:02:39.086803Z"
    }
   },
   "cell_type": "code",
   "source": [
    "# Import libraries\n",
    "import pandas as pd\n",
    "import numpy as np\n",
    "from sklearn.pipeline import make_pipeline\n",
    "from sklearn.preprocessing import StandardScaler\n",
    "from sklearn.decomposition import PCA\n",
    "from sklearn.model_selection import GridSearchCV\n",
    "from sklearn.model_selection import KFold\n",
    "from sklearn.neighbors import KernelDensity\n",
    "from scipy import stats as st\n",
    "from joblib import Parallel, delayed\n",
    "from tqdm import tqdm\n",
    "import pickle"
   ],
   "id": "1ce2c56696608506",
   "outputs": [],
   "execution_count": 32
  },
  {
   "metadata": {
    "ExecuteTime": {
     "end_time": "2025-09-15T21:39:23.854164Z",
     "start_time": "2025-09-15T21:39:23.852802Z"
    }
   },
   "cell_type": "code",
   "source": "script_dir = \"/Users/ivyzhang/Documents/GitHub/prioritizing_data_collection/figures_code/fig2/\"",
   "id": "445b51a430cd9180",
   "outputs": [],
   "execution_count": 2
  },
  {
   "metadata": {
    "ExecuteTime": {
     "end_time": "2025-09-15T21:39:58.485921Z",
     "start_time": "2025-09-15T21:39:23.854570Z"
    }
   },
   "cell_type": "code",
   "source": [
    "num_trials = 1000\n",
    "num_sources = 16  \n",
    "\n",
    "P1_train_list = []\n",
    "P1_test_list = []\n",
    "source_list_all = []\n",
    "\n",
    "for t in range(1, num_trials + 1):\n",
    "    # Read P1_train and P1_test\n",
    "    P1_train_list.append(pd.read_parquet(script_dir+f\"data/P1_train_trial{t}.parquet\"))\n",
    "    P1_test_list.append(pd.read_parquet(script_dir+f\"data/P1_test_trial{t}.parquet\"))\n",
    "    \n",
    "    # Read all sources for this trial into a list\n",
    "    sources = [\n",
    "        pd.read_parquet(script_dir+f\"data/source_{i}_trial{t}.parquet\")\n",
    "        for i in range(1, num_sources + 1)\n",
    "    ]\n",
    "    source_list_all.append(sources)\n"
   ],
   "id": "4a80e305e6b068c7",
   "outputs": [],
   "execution_count": 3
  },
  {
   "metadata": {},
   "cell_type": "markdown",
   "source": "The below calculates KL and Score X as in Shen et al. (2024)\n",
   "id": "a7c027cc13b2e78f"
  },
  {
   "metadata": {
    "ExecuteTime": {
     "end_time": "2025-09-17T18:07:58.524410Z",
     "start_time": "2025-09-17T18:07:58.515443Z"
    }
   },
   "cell_type": "code",
   "source": [
    "EPS = 1e-6 \n",
    "\n",
    "def compute_pca(P1_train, P2_train, Pk_train, random_state=None):\n",
    "    \"\"\"First reduce dimensions\"\"\"\n",
    "    # Project to PCA with fixed seed\n",
    "    X1 = P1_train.iloc[:, 1:]\n",
    "    X2 = P2_train.iloc[:, 1:]\n",
    "    Xk = Pk_train.iloc[:, 1:]\n",
    "\n",
    "    # Combine and scale\n",
    "    combined = pd.concat([X1, X2, Xk], axis=0)\n",
    "    scaler = StandardScaler().fit(combined)\n",
    "    combined_scaled = scaler.transform(combined)\n",
    "\n",
    "    # Fit PCA on combined scaled data\n",
    "    pca = PCA(n_components=3, random_state=random_state)\n",
    "    pca.fit(combined_scaled)\n",
    "\n",
    "    # Project X1+X2 and Xk using the same scaler+pca\n",
    "    X1X2 = pd.concat([X1, X2], axis=0)\n",
    "    X1X2_scaled = scaler.transform(X1X2)\n",
    "    Xk_scaled = scaler.transform(Xk)\n",
    "\n",
    "    X1X2_proj = pca.transform(X1X2_scaled)\n",
    "    Xk_proj = pca.transform(Xk_scaled)\n",
    "\n",
    "    return {\"X1X2_proj\": X1X2_proj, \"Xk_proj\": Xk_proj}\n",
    "    \n",
    "def fit_density(X, bandwidths=np.logspace(-0.5, 0.5, 5), random_state=None):\n",
    "\n",
    "    kf = KFold(n_splits=5, shuffle=True, random_state=random_state)\n",
    "    best_bw, best_ll = None, -np.inf\n",
    "\n",
    "    for bw in bandwidths:\n",
    "        fold_lls = []\n",
    "        for train_idx, val_idx in kf.split(X):\n",
    "            kde = KernelDensity(kernel=\"gaussian\", bandwidth=bw).fit(X[train_idx])\n",
    "            fold_lls.append(kde.score(X[val_idx]))\n",
    "        if np.mean(fold_lls) > best_ll:\n",
    "            best_ll, best_bw = np.mean(fold_lls), bw\n",
    "\n",
    "    kde = KernelDensity(kernel=\"gaussian\", bandwidth=best_bw).fit(X)\n",
    "    return kde\n",
    "\n",
    "def compute_kl_and_score(P1_train, P2_train, Pk_train, random_state=None):\n",
    "    \"\"\"\n",
    "    Compute KL(Target||Source) using KDE estimates.\n",
    "    \"\"\"\n",
    "    # PCA projection\n",
    "    pcs = compute_pca(P1_train, P2_train, Pk_train, random_state)\n",
    "    X1X2_pca = pcs[\"X1X2_proj\"]\n",
    "    Xk_pca = pcs[\"Xk_proj\"]\n",
    "\n",
    "    kde_t = fit_density(X1X2_pca,random_state=random_state)\n",
    "    kde_s = fit_density(Xk_pca,random_state=random_state)\n",
    "    \n",
    "    with open(f'{script_dir}data/kde_t_{random_state}.pkl', 'wb') as f:\n",
    "        pickle.dump(kde_t, f)\n",
    "    \n",
    "    with open(f'{script_dir}data/kde_s_{random_state}.pkl', 'wb') as f:\n",
    "        pickle.dump(kde_s, f)\n",
    "    \n",
    "\n",
    "    # # Evaluate densities on X1X2 points\n",
    "    # t = np.exp(kde_t.score_samples(X1X2_pca)) + EPS\n",
    "    # s = np.exp(kde_s.score_samples(X1X2_pca)) + EPS\n",
    "    # \n",
    "    # t /= t.sum()\n",
    "    # s /= s.sum()\n",
    "    # \n",
    "    # # KL(t || s)\n",
    "    # kl = st.entropy(t, s)\n",
    "\n",
    "    # Score_x\n",
    "\n",
    "    log_t = np.log(np.exp(kde_t.score_samples(X1X2_pca)) + EPS)\n",
    "    log_s = np.log(np.exp(kde_s.score_samples(X1X2_pca)) + EPS)\n",
    "\n",
    "    log_ratio = log_t - log_s\n",
    "    score_x = np.mean(log_ratio)\n",
    "    \n",
    "    return {\"kl\": None, \"score_x\": score_x}\n",
    "\n",
    "def process_one_pk(P1_train, P2_train, Pk_train, random_state):\n",
    "    res = compute_kl_and_score(P1_train, P2_train, Pk_train, random_state=random_state)\n",
    "    return res[\"kl\"], res[\"score_x\"]"
   ],
   "id": "initial_id",
   "outputs": [],
   "execution_count": 40
  },
  {
   "metadata": {
    "ExecuteTime": {
     "end_time": "2025-09-18T10:29:49.120839Z",
     "start_time": "2025-09-17T18:08:01.214388Z"
    }
   },
   "cell_type": "code",
   "source": [
    "# kl_results = []\n",
    "score_results = []\n",
    "\n",
    "for t in tqdm(range(len(P1_train_list))):\n",
    "    P1_train = P1_train_list[t]\n",
    "    P2_train = source_list_all[t][0]\n",
    "    Pk_list = source_list_all[t][1:]\n",
    "    # Run all Pk for this trial in parallel\n",
    "    results = Parallel(n_jobs=-1)(\n",
    "        delayed(process_one_pk)(P1_train, P2_train, Pk, random_state=t)\n",
    "        for Pk in Pk_list\n",
    "    )\n",
    "\n",
    "    # Split out the tuples\n",
    "    kls, scores = zip(*results)\n",
    "    # kl_results.append(list(kls))\n",
    "    score_results.append(list(scores))"
   ],
   "id": "d07341e8e4f1bb89",
   "outputs": [
    {
     "name": "stderr",
     "output_type": "stream",
     "text": [
      "  0%|          | 0/1000 [00:00<?, ?it/s]Python(89815) MallocStackLogging: can't turn off malloc stack logging because it was not enabled.\n",
      "Python(89816) MallocStackLogging: can't turn off malloc stack logging because it was not enabled.\n",
      "Python(89817) MallocStackLogging: can't turn off malloc stack logging because it was not enabled.\n",
      "Python(89818) MallocStackLogging: can't turn off malloc stack logging because it was not enabled.\n",
      "Python(89819) MallocStackLogging: can't turn off malloc stack logging because it was not enabled.\n",
      "Python(89820) MallocStackLogging: can't turn off malloc stack logging because it was not enabled.\n",
      "Python(89821) MallocStackLogging: can't turn off malloc stack logging because it was not enabled.\n",
      "Python(89822) MallocStackLogging: can't turn off malloc stack logging because it was not enabled.\n",
      "100%|██████████| 1000/1000 [16:21:47<00:00, 58.91s/it] \n"
     ]
    }
   ],
   "execution_count": 41
  },
  {
   "metadata": {
    "ExecuteTime": {
     "end_time": "2025-09-18T14:59:29.989134Z",
     "start_time": "2025-09-18T14:59:29.962185Z"
    }
   },
   "cell_type": "code",
   "source": [
    "# with open('kl_results.pkl', 'wb') as f:\n",
    "#     pickle.dump(kl_results, f)\n",
    "#     \n",
    "with open('score_x.pkl', 'wb') as f:\n",
    "    pickle.dump(score_results, f)\n"
   ],
   "id": "e70c89ea0bc6c0b6",
   "outputs": [],
   "execution_count": 43
  },
  {
   "metadata": {
    "ExecuteTime": {
     "end_time": "2025-09-18T14:59:12.240290Z",
     "start_time": "2025-09-18T14:59:12.211617Z"
    }
   },
   "cell_type": "code",
   "source": [
    "# avg_kl = np.mean(kl_results, axis=0)\n",
    "avg_score_x = np.mean(score_results, axis=0)\n",
    "results_df = pd.DataFrame({\n",
    "    \"kl\": avg_kl,\n",
    "    \"score_x\": avg_score_x\n",
    "})\n",
    "results_df.to_csv(f\"{script_dir}data/kl_score_x_avg_v3.csv\", index=False)\n",
    "results_df"
   ],
   "id": "bbce52b22ddf9fff",
   "outputs": [
    {
     "data": {
      "text/plain": [
       "          kl   score_x\n",
       "0   0.439699  1.045079\n",
       "1   0.297684  0.923316\n",
       "2   0.281259  0.907727\n",
       "3   0.248743  0.854621\n",
       "4   0.223369  0.814483\n",
       "5   0.198516  0.792912\n",
       "6   0.192761  0.787079\n",
       "7   0.187875  0.788172\n",
       "8   0.181064  0.783262\n",
       "9   0.161771  0.747496\n",
       "10  0.153696  0.733524\n",
       "11  0.123900  0.664537\n",
       "12  0.110705  0.626532\n",
       "13  0.086939  0.551808\n",
       "14  0.085622  0.540054"
      ],
      "text/html": [
       "<div>\n",
       "<style scoped>\n",
       "    .dataframe tbody tr th:only-of-type {\n",
       "        vertical-align: middle;\n",
       "    }\n",
       "\n",
       "    .dataframe tbody tr th {\n",
       "        vertical-align: top;\n",
       "    }\n",
       "\n",
       "    .dataframe thead th {\n",
       "        text-align: right;\n",
       "    }\n",
       "</style>\n",
       "<table border=\"1\" class=\"dataframe\">\n",
       "  <thead>\n",
       "    <tr style=\"text-align: right;\">\n",
       "      <th></th>\n",
       "      <th>kl</th>\n",
       "      <th>score_x</th>\n",
       "    </tr>\n",
       "  </thead>\n",
       "  <tbody>\n",
       "    <tr>\n",
       "      <th>0</th>\n",
       "      <td>0.439699</td>\n",
       "      <td>1.045079</td>\n",
       "    </tr>\n",
       "    <tr>\n",
       "      <th>1</th>\n",
       "      <td>0.297684</td>\n",
       "      <td>0.923316</td>\n",
       "    </tr>\n",
       "    <tr>\n",
       "      <th>2</th>\n",
       "      <td>0.281259</td>\n",
       "      <td>0.907727</td>\n",
       "    </tr>\n",
       "    <tr>\n",
       "      <th>3</th>\n",
       "      <td>0.248743</td>\n",
       "      <td>0.854621</td>\n",
       "    </tr>\n",
       "    <tr>\n",
       "      <th>4</th>\n",
       "      <td>0.223369</td>\n",
       "      <td>0.814483</td>\n",
       "    </tr>\n",
       "    <tr>\n",
       "      <th>5</th>\n",
       "      <td>0.198516</td>\n",
       "      <td>0.792912</td>\n",
       "    </tr>\n",
       "    <tr>\n",
       "      <th>6</th>\n",
       "      <td>0.192761</td>\n",
       "      <td>0.787079</td>\n",
       "    </tr>\n",
       "    <tr>\n",
       "      <th>7</th>\n",
       "      <td>0.187875</td>\n",
       "      <td>0.788172</td>\n",
       "    </tr>\n",
       "    <tr>\n",
       "      <th>8</th>\n",
       "      <td>0.181064</td>\n",
       "      <td>0.783262</td>\n",
       "    </tr>\n",
       "    <tr>\n",
       "      <th>9</th>\n",
       "      <td>0.161771</td>\n",
       "      <td>0.747496</td>\n",
       "    </tr>\n",
       "    <tr>\n",
       "      <th>10</th>\n",
       "      <td>0.153696</td>\n",
       "      <td>0.733524</td>\n",
       "    </tr>\n",
       "    <tr>\n",
       "      <th>11</th>\n",
       "      <td>0.123900</td>\n",
       "      <td>0.664537</td>\n",
       "    </tr>\n",
       "    <tr>\n",
       "      <th>12</th>\n",
       "      <td>0.110705</td>\n",
       "      <td>0.626532</td>\n",
       "    </tr>\n",
       "    <tr>\n",
       "      <th>13</th>\n",
       "      <td>0.086939</td>\n",
       "      <td>0.551808</td>\n",
       "    </tr>\n",
       "    <tr>\n",
       "      <th>14</th>\n",
       "      <td>0.085622</td>\n",
       "      <td>0.540054</td>\n",
       "    </tr>\n",
       "  </tbody>\n",
       "</table>\n",
       "</div>"
      ]
     },
     "execution_count": 42,
     "metadata": {},
     "output_type": "execute_result"
    }
   ],
   "execution_count": 42
  },
  {
   "metadata": {},
   "cell_type": "code",
   "outputs": [],
   "execution_count": null,
   "source": "",
   "id": "f81c80016838faf3"
  }
 ],
 "metadata": {
  "kernelspec": {
   "display_name": "Python 3",
   "language": "python",
   "name": "python3"
  },
  "language_info": {
   "codemirror_mode": {
    "name": "ipython",
    "version": 2
   },
   "file_extension": ".py",
   "mimetype": "text/x-python",
   "name": "python",
   "nbconvert_exporter": "python",
   "pygments_lexer": "ipython2",
   "version": "2.7.6"
  }
 },
 "nbformat": 4,
 "nbformat_minor": 5
}
